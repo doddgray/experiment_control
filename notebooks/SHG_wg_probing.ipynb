{
 "cells": [
  {
   "cell_type": "code",
   "execution_count": 1,
   "id": "e3d05a90",
   "metadata": {
    "ExecuteTime": {
     "end_time": "2021-12-16T19:04:40.508350Z",
     "start_time": "2021-12-16T19:04:39.660653Z"
    },
    "scrolled": true
   },
   "outputs": [
    {
     "name": "stdout",
     "output_type": "stream",
     "text": [
      "C:\\Users\\POE\\github\\experiment_control\n",
      "Opening connnection to HP laser and power meter\n"
     ]
    }
   ],
   "source": [
    "%cd ..\n",
    "from experiment_control.shg_wg_probing.shg_wg_probing import *\n",
    "# instrument_info() # print instrument info to verify connections\n",
    "%matplotlib notebook"
   ]
  },
  {
   "cell_type": "code",
   "execution_count": 3,
   "id": "1ae8399f",
   "metadata": {
    "ExecuteTime": {
     "end_time": "2021-12-16T19:05:00.435633Z",
     "start_time": "2021-12-16T19:05:00.362237Z"
    }
   },
   "outputs": [
    {
     "data": {
      "text/plain": [
       "[1549.0, 3.0, 1]"
      ]
     },
     "execution_count": 3,
     "metadata": {},
     "output_type": "execute_result"
    }
   ],
   "source": [
    "laser.get_state()"
   ]
  },
  {
   "cell_type": "code",
   "execution_count": 4,
   "id": "e49b585c",
   "metadata": {
    "ExecuteTime": {
     "end_time": "2021-12-16T19:05:22.364196Z",
     "start_time": "2021-12-16T19:05:22.359224Z"
    }
   },
   "outputs": [],
   "source": [
    "daqp0 = daq.port0"
   ]
  },
  {
   "cell_type": "code",
   "execution_count": 5,
   "id": "b3926fc6",
   "metadata": {
    "ExecuteTime": {
     "end_time": "2021-12-16T19:36:16.628178Z",
     "start_time": "2021-12-16T19:36:16.622220Z"
    }
   },
   "outputs": [
    {
     "data": {
      "text/plain": [
       "b'USB-6259'"
      ]
     },
     "execution_count": 5,
     "metadata": {},
     "output_type": "execute_result"
    }
   ],
   "source": [
    "daq.product_type"
   ]
  },
  {
   "cell_type": "code",
   "execution_count": null,
   "id": "57480a15",
   "metadata": {},
   "outputs": [],
   "source": []
  },
  {
   "cell_type": "code",
   "execution_count": null,
   "id": "b8ef7008",
   "metadata": {},
   "outputs": [],
   "source": [
    "import nidaqmx\n",
    "import matplotlib.pyplot as plt\n",
    "import sys\n",
    "import numpy as np\n",
    "\n",
    "data_0 = list()\n",
    "data_1 = list()\n",
    "\n",
    "AIN_RECEIVED = \"/Dev1/ai0\"  # Analog signal corresponding to the received power\n",
    "AIN_TAP = \"/Dev1/ai1\"  # Analog signal corresponding to the tap power\n",
    "PFI_CLK = \"/Dev1/pfi0\"  # Trigger coming from the laser\n",
    "\n",
    "for i in [1]:\n",
    "\n",
    "    with nidaqmx.Task() as task:\n",
    "\n",
    "        init_wav = 1520.0\n",
    "        end_wav = 1580.0\n",
    "        step_wav = 0.1993\n",
    "        num_points = round(((end_wav-init_wav)/step_wav + 1))\n",
    "        task.ai_channels.add_ai_voltage_chan(AIN_RECEIVED, min_val=0, max_val=2.0)\n",
    "        task.ai_channels.add_ai_voltage_chan(AIN_TAP, min_val=0, max_val=2.0)\n",
    "\n",
    "        task.timing.cfg_samp_clk_timing(500, source=PFI_CLK, active_edge=nidaqmx.constants.Edge.FALLING,\n",
    "                                        samps_per_chan=num_points)\n",
    "\n",
    "        print('acq started')\n",
    "        sys.stdout.flush()\n",
    "        task.start()\n",
    "        task.wait_until_done(timeout=50)\n",
    "        data = task.read(number_of_samples_per_channel=num_points)\n",
    "        data_0.append(data[0])\n",
    "        data_1.append(data[1])\n",
    "        print(data)\n",
    "\n",
    "plt.plot(np.linspace(init_wav, end_wav, num_points), data_0[0], 'o-')\n",
    "#plt.plot(np.linspace(init_wav, end_wav, num_points), data_0[1], 'o-')\n",
    "#plt.plot(np.linspace(init_wav, end_wav, num_points), data_0[2], 'o-')\n",
    "#plt.plot(np.linspace(init_wav, end_wav, num_points), data_0[3], 'o-')\n",
    "plt.plot(np.linspace(init_wav, end_wav, num_points), data_1[0], 'o-')\n",
    "#plt.plot(np.linspace(init_wav, end_wav, num_points), data_1[1], 'o-')\n",
    "#plt.plot(np.linspace(init_wav, end_wav, num_points), data_1[2], 'o-')\n",
    "#plt.plot(np.linspace(init_wav, end_wav, num_points), data_1[3], 'o-')\n",
    "\n",
    "plt.show()"
   ]
  },
  {
   "cell_type": "code",
   "execution_count": null,
   "id": "dfff802a",
   "metadata": {},
   "outputs": [],
   "source": []
  }
 ],
 "metadata": {
  "kernelspec": {
   "display_name": "Python 3",
   "language": "python",
   "name": "python3"
  },
  "language_info": {
   "codemirror_mode": {
    "name": "ipython",
    "version": 3
   },
   "file_extension": ".py",
   "mimetype": "text/x-python",
   "name": "python",
   "nbconvert_exporter": "python",
   "pygments_lexer": "ipython3",
   "version": "3.9.5"
  }
 },
 "nbformat": 4,
 "nbformat_minor": 5
}
